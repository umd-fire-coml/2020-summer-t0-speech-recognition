{
 "cells": [
  {
   "cell_type": "code",
   "execution_count": 1,
   "metadata": {
    "slideshow": {
     "slide_type": "slide"
    }
   },
   "outputs": [],
   "source": [
    "import numpy as np\n",
    "import librosa #imports audio/music packages\n",
    "import librosa.display #displays spectrograms\n",
    "import os\n",
    "import csv\n",
    "%matplotlib inline\n",
    "import matplotlib.pyplot as plt #plots spectrogram\n",
    "import random"
   ]
  },
  {
   "cell_type": "code",
   "execution_count": 2,
   "metadata": {},
   "outputs": [],
   "source": [
    "train_dir = 'train/audio/' #download files from kaggle\n",
    "\n",
    "classes = ['yes', 'no', \n",
    "           'up', 'down', \n",
    "           'left', 'right', \n",
    "           'on', 'off', \n",
    "           'stop', 'go', \n",
    "           'silence', 'unknown']"
   ]
  },
  {
   "cell_type": "code",
   "execution_count": null,
   "metadata": {},
   "outputs": [],
   "source": [
    "%%bash\\n\n",
    "mv train/audio/_background_noise_ data/train\\n\n",
    "ls train"
   ]
  },
  {
   "cell_type": "code",
   "execution_count": 4,
   "metadata": {},
   "outputs": [],
   "source": [
    "def split_arr(arr): #turns all audio into 1 sec frames\n",
    "    \"\"\"\n",
    "    split an array into chunks of length 16000\n",
    "    Returns:\n",
    "        list of arrays\n",
    "    \"\"\"\n",
    "    return np.split(arr, np.arange(16000, len(arr), 16000))"
   ]
  },
  {
   "cell_type": "code",
   "execution_count": 5,
   "metadata": {},
   "outputs": [],
   "source": [
    "def create_silence(): #creates silence files\n",
    "    \"\"\"\n",
    "    reads wav files in background noises folder, \n",
    "    splits them and saves to silence folder in train_dir\n",
    "    \"\"\"\n",
    "    for file in os.listdir('train/_background_noise_/'):\n",
    "        if 'wav' in file:\n",
    "            sig, rate = librosa.load('train/_background_noise_/' + file, sr = 16000)        \n",
    "            sig_arr = split_arr(sig)\n",
    "            if not os.path.exists(train_dir+'silence/'):\n",
    "                os.makedirs(train_dir+'silence/')\n",
    "            for ind, arr in enumerate(sig_arr):\n",
    "                filename = 'frag%d' %ind + '_%s' %file # example: frag0_running_tap.wav\n",
    "                librosa.output.write_wav(train_dir+'silence/'+filename, arr, 16000)"
   ]
  },
  {
   "cell_type": "code",
   "execution_count": 6,
   "metadata": {},
   "outputs": [],
   "source": [
    "create_silence()"
   ]
  },
  {
   "cell_type": "code",
   "execution_count": 7,
   "metadata": {},
   "outputs": [
    {
     "name": "stdout",
     "output_type": "stream",
     "text": [
      "['yes', 'no', 'up', 'down', 'left', 'right', 'on', 'off', 'stop', 'go', 'silence', 'dog', '.ipynb_checkpoints', 'bird', 'sheila', 'eight', 'five', 'cat', 'zero', 'six', 'house', 'tree', 'bed', 'wow', 'four', 'three', 'nine', 'two', 'seven', 'marvin', 'one', 'happy']\n"
     ]
    }
   ],
   "source": [
    "folders = os.listdir(train_dir) #displays words in audio recordings\n",
    "# put folders in same order as in the classes list, used when making sets\n",
    "all_classes = [x for x in classes[:11]]\n",
    "for ind, cl in enumerate(folders):\n",
    "    if cl not in classes:\n",
    "        all_classes.append(cl)\n",
    "print(all_classes)\n"
   ]
  },
  {
   "cell_type": "code",
   "execution_count": 8,
   "metadata": {},
   "outputs": [],
   "source": [
    "with open('train/validation_list.txt') as val_list: \n",
    "    validation_list = [row[0] for row in csv.reader(val_list)]\n",
    "assert len(validation_list) == 6798, 'file not loaded'\n",
    "\n",
    "\"\"\"\n",
    "#if you want to add the files in testing_list.txt to the validation list:\n",
    "\n",
    "with open('./data/train/testing_list.txt') as test_list:\n",
    "    testing_list = [row[0] for row in csv.reader(test_list)]\n",
    "assert len(testing_list) == 6835, 'file not loaded'\n",
    "\n",
    "#combine into validation set\n",
    "validation_list.extend(testing_list)\n",
    "\"\"\"\n",
    "#add silence files to validation_list\n",
    "for i, file in enumerate(os.listdir(train_dir + 'silence/')):\n",
    "    if i%10==0:\n",
    "        validation_list.append('silence/'+file)\n",
    "\n",
    "training_list = []\n",
    "all_files_list = []\n",
    "class_counts = {}\n",
    "\n",
    "for folder in folders:\n",
    "    files = os.listdir(train_dir + folder)\n",
    "    for i, f in enumerate(files):\n",
    "        all_files_list.append(folder + '/' + f)\n",
    "        path = folder + '/' + f\n",
    "        if path not in validation_list:\n",
    "            training_list.append(folder + '/' + f)        \n",
    "        class_counts[folder] = i\n",
    "\n",
    "#remove filenames from validation_list that don't exist anymore (due to eda)\n",
    "validation_list = list(set(validation_list).intersection(all_files_list))"
   ]
  },
  {
   "cell_type": "code",
   "execution_count": 9,
   "metadata": {},
   "outputs": [],
   "source": [
    "assert len(validation_list)+len(training_list)==len(all_files_list), 'error'"
   ]
  },
  {
   "cell_type": "code",
   "execution_count": 10,
   "metadata": {},
   "outputs": [
    {
     "name": "stdout",
     "output_type": "stream",
     "text": [
      "silence/frag41_white_noise.wav size training set:  58284 size validation set:  6839\n"
     ]
    }
   ],
   "source": [
    "# check random file name\n",
    "print(training_list[345], 'size training set: ',len(training_list), 'size validation set: ', len(validation_list))"
   ]
  },
  {
   "cell_type": "code",
   "execution_count": 11,
   "metadata": {},
   "outputs": [
    {
     "name": "stdout",
     "output_type": "stream",
     "text": [
      "{'silence': 401, 'dog': 1745, 'bird': 1730, 'sheila': 1733, 'eight': 2351, 'five': 2356, 'cat': 1732, 'down': 2358, 'zero': 2375, 'on': 2366, 'six': 2368, 'house': 1749, 'tree': 1732, 'right': 2366, 'no': 2374, 'bed': 1712, 'wow': 1744, 'four': 2371, 'stop': 2379, 'three': 2355, 'nine': 2363, 'two': 2372, 'seven': 2376, 'marvin': 1745, 'up': 2374, 'go': 2371, 'off': 2356, 'yes': 2376, 'left': 2352, 'one': 2369, 'happy': 1741}\n"
     ]
    }
   ],
   "source": [
    "print(class_counts)"
   ]
  },
  {
   "cell_type": "code",
   "execution_count": 12,
   "metadata": {},
   "outputs": [
    {
     "name": "stdout",
     "output_type": "stream",
     "text": [
      "min:  -0.1182251 \n",
      "max:  0.10827637 \n",
      "mean:  7.842428e-06 \n",
      "median:  0.0 \n",
      "variance:  0.0003236237 \n",
      "length:  10923\n"
     ]
    },
    {
     "data": {
      "text/plain": [
       "[<matplotlib.lines.Line2D at 0x7f3ffb0333d0>]"
      ]
     },
     "execution_count": 12,
     "metadata": {},
     "output_type": "execute_result"
    },
    {
     "data": {
      "image/png": "[encoded data removed]",
      "text/plain": [
       "<Figure size 432x288 with 1 Axes>"
      ]
     },
     "metadata": {
      "needs_background": "light"
     },
     "output_type": "display_data"
    }
   ],
   "source": [
    "x, r = librosa.load(train_dir + 'yes/bfdb9801_nohash_0.wav', sr = 16000)\n",
    "print('min: ',np.min(x), \n",
    "      '\\nmax: ', np.max(x), \n",
    "      '\\nmean: ', np.mean(x),\n",
    "      '\\nmedian: ', np.median(x),\n",
    "      '\\nvariance: ', np.var(x),\n",
    "      '\\nlength: ', len(x))\n",
    "plt.plot(x)"
   ]
  },
  {
   "cell_type": "code",
   "execution_count": 13,
   "metadata": {},
   "outputs": [],
   "source": [
    "def make_spec(file, file_dir = train_dir, flip = False, ps = False, st = 4): #constructs all wave files into spectrograms\n",
    "    \"\"\"\n",
    "    create a melspectrogram from the amplitude of the sound\n",
    "    \n",
    "    Args:\n",
    "        file (str): filename\n",
    "        file_dir (str): directory path\n",
    "        flip (bool): reverse time axis\n",
    "        ps (bool): pitch shift\n",
    "        st (int): half-note steps for pitch shift\n",
    "    Returns:\n",
    "        np.array with shape (122,85) (time, freq)\n",
    "    \"\"\"\n",
    "    sig, rate = librosa.load(file_dir + file, sr = 16000)\n",
    "    if len(sig) < 16000: # pad shorter than 1 sec audio with ramp to zero\n",
    "        sig = np.pad(sig, (0,16000-len(sig)), 'linear_ramp')\n",
    "    if ps:\n",
    "        sig = librosa.effects.pitch_shift(sig, rate, st)\n",
    "    D = librosa.amplitude_to_db(librosa.stft(sig[:16000], n_fft = 512, \n",
    "                                             hop_length = 128, \n",
    "                                             center = False), ref = np.max)\n",
    "    S = librosa.feature.melspectrogram(S=D, n_mels = 85).T\n",
    "    if flip:\n",
    "        S = np.flipud(S)\n",
    "    return S.astype(np.float32)"
   ]
  },
  {
   "cell_type": "code",
   "execution_count": 14,
   "metadata": {},
   "outputs": [
    {
     "name": "stderr",
     "output_type": "stream",
     "text": [
      "/opt/conda/envs/speechrecognition/lib/python3.7/site-packages/librosa/core/spectrum.py:1702: UserWarning: amplitude_to_db was called on complex input so phase information will be discarded. To suppress this warning, call amplitude_to_db(np.abs(S)) instead.\n",
      "  warnings.warn('amplitude_to_db was called on complex input so phase '\n"
     ]
    },
    {
     "data": {
      "text/plain": [
       "<matplotlib.axes._subplots.AxesSubplot at 0x7f3ffa54d8d0>"
      ]
     },
     "execution_count": 14,
     "metadata": {},
     "output_type": "execute_result"
    },
    {
     "data": {
      "image/png": "[encoded data removed]",
      "text/plain": [
       "<Figure size 432x288 with 1 Axes>"
      ]
     },
     "metadata": {
      "needs_background": "light"
     },
     "output_type": "display_data"
    }
   ],
   "source": [
    "librosa.display.specshow(make_spec('yes/bfdb9801_nohash_0.wav'), \n",
    "                         x_axis='mel', \n",
    "                         fmax=8000, \n",
    "                         y_axis='time', \n",
    "                         sr = 16000,\n",
    "                         hop_length = 128)"
   ]
  },
  {
   "cell_type": "code",
   "execution_count": 15,
   "metadata": {},
   "outputs": [
    {
     "data": {
      "text/plain": [
       "(122, 85)"
      ]
     },
     "execution_count": 15,
     "metadata": {},
     "output_type": "execute_result"
    }
   ],
   "source": [
    "make_spec('yes/bfdb9801_nohash_0.wav').shape"
   ]
  },
  {
   "cell_type": "code",
   "execution_count": 16,
   "metadata": {},
   "outputs": [],
   "source": [
    "def create_sets(file_list = training_list):\n",
    "    X_array = np.zeros([len(file_list),122,85])\n",
    "    Y_array = np.zeros([len(file_list)])    \n",
    "    for ind, file in enumerate(file_list):\n",
    "        if ind%2000 == 0:\n",
    "            print(ind, file)\n",
    "        try:\n",
    "            X_array[ind] = make_spec(file)\n",
    "        except ValueError:\n",
    "            print(ind, file, ValueError)\n",
    "        Y_array[ind] = all_classes.index(file.rsplit('/')[0])\n",
    "        \n",
    "    return X_array, Y_array"
   ]
  },
  {
   "cell_type": "code",
   "execution_count": 17,
   "metadata": {},
   "outputs": [
    {
     "name": "stdout",
     "output_type": "stream",
     "text": [
      "0 silence/frag65_doing_the_dishes.wav\n",
      "2000 bird/88053e92_nohash_0.wav\n",
      "4000 sheila/b575b5fb_nohash_0.wav\n",
      "6000 eight/bbd0bbd0_nohash_1.wav\n",
      "8000 five/1ecfb537_nohash_4.wav\n",
      "10000 cat/c37a72d3_nohash_0.wav\n",
      "12000 down/bf4af1af_nohash_0.wav\n",
      "14000 zero/41dce6f5_nohash_0.wav\n",
      "16000 on/c948d727_nohash_4.wav\n",
      "18000 six/784e281a_nohash_0.wav\n",
      "20000 house/637c702a_nohash_1.wav\n",
      "28000 bed/8ec6dab6_nohash_0.wav\n",
      "30000 four/eb0676ec_nohash_1.wav\n",
      "32000 stop/e9b61425_nohash_0.wav\n",
      "34000 three/96ab6565_nohash_3.wav\n",
      "36000 three/7be9f58a_nohash_0.wav\n",
      "38000 nine/5c39594f_nohash_4.wav\n",
      "40000 two/778a4a01_nohash_1.wav\n",
      "42000 seven/9f63152b_nohash_0.wav\n",
      "44000 marvin/0ac15fe9_nohash_0.wav\n",
      "46000 up/94de6a6a_nohash_1.wav\n",
      "48000 go/fb7cfe0e_nohash_0.wav\n",
      "50000 off/742d6431_nohash_3.wav\n",
      "52000 yes/b87bdb22_nohash_2.wav\n",
      "54000 left/28e47b1a_nohash_0.wav\n",
      "56000 one/f63a6479_nohash_0.wav\n",
      "58000 happy/b3849d6e_nohash_0.wav\n"
     ]
    }
   ],
   "source": [
    "X_train, Y_train_all = create_sets() # takes a while"
   ]
  },
  {
   "cell_type": "code",
   "execution_count": 18,
   "metadata": {},
   "outputs": [],
   "source": [
    "# all unknown are index 11\n",
    "Y_train = np.where(Y_train_all < 11, Y_train_all, 11)"
   ]
  },
  {
   "cell_type": "code",
   "execution_count": 19,
   "metadata": {},
   "outputs": [
    {
     "name": "stdout",
     "output_type": "stream",
     "text": [
      "True False\n"
     ]
    }
   ],
   "source": [
    "print(len(Y_train) == len(Y_train_all), 12 in Y_train)"
   ]
  },
  {
   "cell_type": "code",
   "execution_count": 20,
   "metadata": {},
   "outputs": [
    {
     "data": {
      "text/plain": [
       "(58284, 122, 85)"
      ]
     },
     "execution_count": 20,
     "metadata": {},
     "output_type": "execute_result"
    }
   ],
   "source": [
    "X_train.shape"
   ]
  },
  {
   "cell_type": "code",
   "execution_count": 21,
   "metadata": {},
   "outputs": [
    {
     "data": {
      "text/plain": [
       "(58284,)"
      ]
     },
     "execution_count": 21,
     "metadata": {},
     "output_type": "execute_result"
    }
   ],
   "source": [
    "Y_train_all.shape"
   ]
  },
  {
   "cell_type": "code",
   "execution_count": 22,
   "metadata": {},
   "outputs": [
    {
     "data": {
      "text/plain": [
       "(58284,)"
      ]
     },
     "execution_count": 22,
     "metadata": {},
     "output_type": "execute_result"
    }
   ],
   "source": [
    "Y_train.shape"
   ]
  },
  {
   "cell_type": "code",
   "execution_count": 23,
   "metadata": {},
   "outputs": [
    {
     "data": {
      "text/plain": [
       "<matplotlib.axes._subplots.AxesSubplot at 0x7f3ffaf7a210>"
      ]
     },
     "execution_count": 23,
     "metadata": {},
     "output_type": "execute_result"
    },
    {
     "data": {
      "image/png": "[encoded data removed]",
      "text/plain": [
       "<Figure size 432x288 with 1 Axes>"
      ]
     },
     "metadata": {
      "needs_background": "light"
     },
     "output_type": "display_data"
    }
   ],
   "source": [
    "librosa.display.specshow(X_train[6500], #displays a spectrogram\n",
    "                         x_axis='mel', \n",
    "                         fmax=8000, \n",
    "                         y_axis='time', \n",
    "                         sr = 16000,\n",
    "                         hop_length = 128)"
   ]
  },
  {
   "cell_type": "code",
   "execution_count": 24,
   "metadata": {},
   "outputs": [
    {
     "name": "stdout",
     "output_type": "stream",
     "text": [
      "min:  -2.0306179523468018 \n",
      "max:  9.682740653715882e-08 \n",
      "mean:  -1.3092300794471547 \n",
      "median:  -1.3604835271835327 \n",
      "variance:  0.19676181601647008\n"
     ]
    }
   ],
   "source": [
    "print('min: ',np.min(X_train), \n",
    "      '\\nmax: ', np.max(X_train), \n",
    "      '\\nmean: ', np.mean(X_train),\n",
    "      '\\nmedian: ', np.median(X_train),\n",
    "      '\\nvariance: ', np.var(X_train))"
   ]
  },
  {
   "cell_type": "code",
   "execution_count": 25,
   "metadata": {},
   "outputs": [
    {
     "data": {
      "text/plain": [
       "(array([ 1228696.,   145193.,  3275025.,  7532804., 82702716., 22856634.,\n",
       "        16916704., 16934796., 16204825., 16512879., 17009318., 17513302.,\n",
       "        18006812., 18386291., 18671257., 18840020., 18900237., 18844196.,\n",
       "        18652590., 18316823., 17823879., 17199133., 16469637., 15675213.,\n",
       "        14854687., 14015045., 13174262., 12327566., 11507182., 10714156.,\n",
       "         9950829.,  9217051.,  8526898.,  7885926.,  7288961.,  6747406.,\n",
       "         6245523.,  5775195.,  5310557.,  4841611.,  4364017.,  3884664.,\n",
       "         3374695.,  2829794.,  2268462.,  1743245.,  1304578.,   865137.,\n",
       "          526567.,   242086.]),\n",
       " array([-2.03061795e+00, -1.99000559e+00, -1.94939323e+00, -1.90878087e+00,\n",
       "        -1.86816851e+00, -1.82755615e+00, -1.78694379e+00, -1.74633143e+00,\n",
       "        -1.70571906e+00, -1.66510670e+00, -1.62449434e+00, -1.58388198e+00,\n",
       "        -1.54326962e+00, -1.50265726e+00, -1.46204490e+00, -1.42143254e+00,\n",
       "        -1.38082018e+00, -1.34020782e+00, -1.29959545e+00, -1.25898309e+00,\n",
       "        -1.21837073e+00, -1.17775837e+00, -1.13714601e+00, -1.09653365e+00,\n",
       "        -1.05592129e+00, -1.01530893e+00, -9.74696567e-01, -9.34084206e-01,\n",
       "        -8.93471845e-01, -8.52859484e-01, -8.12247123e-01, -7.71634762e-01,\n",
       "        -7.31022401e-01, -6.90410040e-01, -6.49797679e-01, -6.09185318e-01,\n",
       "        -5.68572957e-01, -5.27960596e-01, -4.87348235e-01, -4.46735874e-01,\n",
       "        -4.06123513e-01, -3.65511152e-01, -3.24898791e-01, -2.84286430e-01,\n",
       "        -2.43674069e-01, -2.03061708e-01, -1.62449347e-01, -1.21836986e-01,\n",
       "        -8.12246251e-02, -4.06122642e-02,  9.68274065e-08]),\n",
       " <a list of 50 Patch objects>)"
      ]
     },
     "execution_count": 25,
     "metadata": {},
     "output_type": "execute_result"
    },
    {
     "data": {
      "image/png": "[encoded data removed]",
      "text/plain": [
       "<Figure size 432x288 with 1 Axes>"
      ]
     },
     "metadata": {
      "needs_background": "light"
     },
     "output_type": "display_data"
    }
   ],
   "source": [
    "plt.hist(X_train.flatten(), bins = 50)"
   ]
  },
  {
   "cell_type": "code",
   "execution_count": 26,
   "metadata": {},
   "outputs": [],
   "source": [
    "np.save('X_train.npy', np.expand_dims(X_train, -1)+1.3)\n",
    "np.save('Y_train.npy', Y_train.astype(np.int))\n",
    "np.save('Y_train_all.npy', Y_train_all.astype(np.int))\n"
   ]
  },
  {
   "cell_type": "code",
   "execution_count": 27,
   "metadata": {},
   "outputs": [
    {
     "name": "stdout",
     "output_type": "stream",
     "text": [
      "0 four/dca2797e_nohash_4.wav\n",
      "2000 bed/f5e5e8b0_nohash_1.wav\n",
      "4000 zero/56eb74ae_nohash_0.wav\n",
      "6000 go/c2d15ea5_nohash_0.wav\n"
     ]
    }
   ],
   "source": [
    "X_val, Y_val_all = create_sets(file_list = validation_list)"
   ]
  },
  {
   "cell_type": "code",
   "execution_count": 28,
   "metadata": {},
   "outputs": [],
   "source": [
    "Y_val = np.where(Y_val_all < 11, Y_val_all, 11)\n"
   ]
  },
  {
   "cell_type": "code",
   "execution_count": 29,
   "metadata": {},
   "outputs": [
    {
     "data": {
      "text/plain": [
       "(array([  154940.,    18034.,   411645.,   957655., 10309003.,  2858927.,\n",
       "         2146578.,  2155734.,  2049895.,  2059563.,  2087882.,  2115112.,\n",
       "         2131931.,  2143110.,  2147229.,  2145523.,  2141245.,  2122489.,\n",
       "         2093430.,  2053423.,  2001739.,  1938333.,  1861705.,  1778818.,\n",
       "         1684598.,  1584731.,  1481878.,  1378238.,  1284468.,  1188649.,\n",
       "         1100951.,  1022830.,   947062.,   880444.,   816628.,   754606.,\n",
       "          701733.,   649502.,   594099.,   543359.,   491538.,   438045.,\n",
       "          382877.,   320595.,   257847.,   198923.,   146399.,    98751.,\n",
       "           61642.,    26094.]),\n",
       " array([-2.03061795e+00, -1.99000559e+00, -1.94939323e+00, -1.90878087e+00,\n",
       "        -1.86816851e+00, -1.82755615e+00, -1.78694379e+00, -1.74633143e+00,\n",
       "        -1.70571906e+00, -1.66510670e+00, -1.62449434e+00, -1.58388198e+00,\n",
       "        -1.54326962e+00, -1.50265726e+00, -1.46204490e+00, -1.42143254e+00,\n",
       "        -1.38082018e+00, -1.34020782e+00, -1.29959546e+00, -1.25898309e+00,\n",
       "        -1.21837073e+00, -1.17775837e+00, -1.13714601e+00, -1.09653365e+00,\n",
       "        -1.05592129e+00, -1.01530893e+00, -9.74696568e-01, -9.34084207e-01,\n",
       "        -8.93471846e-01, -8.52859485e-01, -8.12247124e-01, -7.71634763e-01,\n",
       "        -7.31022402e-01, -6.90410041e-01, -6.49797680e-01, -6.09185319e-01,\n",
       "        -5.68572958e-01, -5.27960597e-01, -4.87348236e-01, -4.46735875e-01,\n",
       "        -4.06123514e-01, -3.65511153e-01, -3.24898793e-01, -2.84286432e-01,\n",
       "        -2.43674071e-01, -2.03061710e-01, -1.62449349e-01, -1.21836988e-01,\n",
       "        -8.12246268e-02, -4.06122659e-02,  9.50593204e-08]),\n",
       " <a list of 50 Patch objects>)"
      ]
     },
     "execution_count": 29,
     "metadata": {},
     "output_type": "execute_result"
    },
    {
     "data": {
      "image/png": "[encoded data removed]",
      "text/plain": [
       "<Figure size 432x288 with 1 Axes>"
      ]
     },
     "metadata": {
      "needs_background": "light"
     },
     "output_type": "display_data"
    }
   ],
   "source": [
    "plt.hist(X_val.flatten(), bins = 50)\n"
   ]
  },
  {
   "cell_type": "code",
   "execution_count": 30,
   "metadata": {},
   "outputs": [],
   "source": [
    "np.save('X_val.npy', np.expand_dims(X_val, -1)+1.3)\n",
    "np.save('Y_val.npy', Y_val.astype(np.int))\n",
    "np.save('Y_val_all.npy', Y_val_all.astype(np.int))"
   ]
  },
  {
   "cell_type": "code",
   "execution_count": null,
   "metadata": {},
   "outputs": [],
   "source": []
  }
 ],
 "metadata": {
  "celltoolbar": "Slideshow",
  "kernelspec": {
   "display_name": "Python 3",
   "language": "python",
   "name": "python3"
  },
  "language_info": {
   "codemirror_mode": {
    "name": "ipython",
    "version": 3
   },
   "file_extension": ".py",
   "mimetype": "text/x-python",
   "name": "python",
   "nbconvert_exporter": "python",
   "pygments_lexer": "ipython3",
   "version": "3.7.6"
  }
 },
 "nbformat": 4,
 "nbformat_minor": 4
}
